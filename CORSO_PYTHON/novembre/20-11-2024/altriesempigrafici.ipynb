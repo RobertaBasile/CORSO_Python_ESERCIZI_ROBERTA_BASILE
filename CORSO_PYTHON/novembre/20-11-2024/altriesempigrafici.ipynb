{
 "cells": [
  {
   "cell_type": "code",
   "execution_count": null,
   "metadata": {},
   "outputs": [],
   "source": [
    "# Convert 'Sex' back to categorical labels for better readability\n",
    "df['Sex_cat'] = df['Sex'].map({0: 'Male', 1: 'Female'})\n",
    "\n",
    "# Plotting\n",
    "plt.figure(figsize=(10,6))\n",
    "sns.violinplot(x='Sex_cat', y='Age', hue='Survived', data=df, split=True, palette={0:'lightcoral', 1:'lightgreen'})\n",
    "plt.title('Age Distribution by Gender and Survival')\n",
    "plt.xlabel('Gender')\n",
    "plt.ylabel('Age')\n",
    "plt.legend(title='Survived', labels=['No', 'Yes'])\n",
    "plt.show()"
   ]
  },
  {
   "cell_type": "code",
   "execution_count": null,
   "metadata": {},
   "outputs": [],
   "source": [
    "# Selecting relevant features\n",
    "sns.pairplot(df[['Survived', 'Pclass', 'Sex_cat', 'Age', 'SibSp', 'Parch', 'Fare']], hue='Survived', palette={0:'red', 1:'green'}, diag_kind='kde')\n",
    "plt.suptitle('Pair Plot of Titanic Features by Survival', y=1.02)\n",
    "plt.show()"
   ]
  }
 ],
 "metadata": {
  "language_info": {
   "name": "python"
  }
 },
 "nbformat": 4,
 "nbformat_minor": 2
}
