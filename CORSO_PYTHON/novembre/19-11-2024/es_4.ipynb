{
 "cells": [
  {
   "cell_type": "code",
   "execution_count": 3,
   "metadata": {},
   "outputs": [
    {
     "name": "stdout",
     "output_type": "stream",
     "text": [
      "    A   B\n",
      "0  A0  B0\n",
      "1  A1  B1\n",
      "2  A2  B2\n",
      "\n",
      "\n",
      "    C   D\n",
      "0  C0  D0\n",
      "2  C1  D1\n",
      "3  C2  D2\n"
     ]
    }
   ],
   "source": [
    "import numpy as np\n",
    "import pandas as pd\n",
    "df1 = pd.DataFrame({\n",
    "'A': ['A0', 'A1', 'A2'],\n",
    "'B': ['B0', 'B1', 'B2']\n",
    "}, index=[0, 1, 2])\n",
    "\n",
    "df2 = pd.DataFrame({\n",
    "'C': ['C0', 'C1', 'C2'],\n",
    "'D': ['D0', 'D1', 'D2']\n",
    "}, index=[0, 2, 3])\n",
    "\n",
    "print(df1)\n",
    "print(\"\\n\")\n",
    "print(df2)\n",
    "\n",
    "#Combina df1 e df2 affiancandoli, allineando gli indici."
   ]
  },
  {
   "cell_type": "code",
   "execution_count": null,
   "metadata": {},
   "outputs": [
    {
     "name": "stdout",
     "output_type": "stream",
     "text": [
      "     A    B    C    D\n",
      "0   A0   B0   C0   D0\n",
      "1   A1   B1  NaN  NaN\n",
      "2   A2   B2   C1   D1\n",
      "3  NaN  NaN   C2   D2\n"
     ]
    }
   ],
   "source": [
    "# Combinare df1 e df2 affiancandoli, allineando gli indici \n",
    "df_combinato = pd.concat([df1, df2], axis=1) #axis=1 per combinare le colonne\n",
    "# Visualizzare il risultato \n",
    "print(df_combinato)\n",
    "# I valori NaN (Not a Number) vengono restituiti perché gli indici dei due DataFrame non corrispondono perfettamente. Quando si esegue una concatenazione affiancata (axis=1), pandas allinea i DataFrame in base agli indici. Se un indice è presente in un DataFrame ma non nell'altro, pandas inserisce NaN per le colonne mancanti.\n",
    "\n",
    "# df1 ha indici [0, 1, 2] e df2 ha indici [0, 2, 3]. \n",
    "# Quando pandas allinea i DataFrame, \n",
    "# gli indici che non corrispondono tra i due DataFrame risultano in valori NaN."
   ]
  },
  {
   "cell_type": "markdown",
   "metadata": {},
   "source": [
    "df1 ha indici [0, 1, 2] e df2 ha indici [0, 2, 3]. \n",
    "## Quando pandas allinea i DataFrame, \n",
    "## gli indici che non corrispondono tra i due DataFrame risultano in valori NaN."
   ]
  }
 ],
 "metadata": {
  "kernelspec": {
   "display_name": "Python 3",
   "language": "python",
   "name": "python3"
  },
  "language_info": {
   "codemirror_mode": {
    "name": "ipython",
    "version": 3
   },
   "file_extension": ".py",
   "mimetype": "text/x-python",
   "name": "python",
   "nbconvert_exporter": "python",
   "pygments_lexer": "ipython3",
   "version": "3.13.0"
  }
 },
 "nbformat": 4,
 "nbformat_minor": 2
}
