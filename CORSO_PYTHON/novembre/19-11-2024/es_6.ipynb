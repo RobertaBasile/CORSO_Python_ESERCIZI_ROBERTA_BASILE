{
 "cells": [
  {
   "cell_type": "markdown",
   "metadata": {},
   "source": [
    "Riorganizza il DataFrame in modo che ogni categoria diventi una colonna e i valori siano distribuiti di conseguenza per ogni data.\n"
   ]
  },
  {
   "cell_type": "code",
   "execution_count": 1,
   "metadata": {},
   "outputs": [],
   "source": [
    "import pandas as pd\n",
    "\n",
    "# Dati forniti\n",
    "data = {\n",
    "    'Data': ['2024-01', '2024-01', '2024-02', '2024-02'],\n",
    "    'Categoria': ['A', 'B', 'A', 'B'],\n",
    "    'Valore': [10, 20, 15, 25]\n",
    "}\n",
    "\n",
    "df = pd.DataFrame(data)\n"
   ]
  },
  {
   "cell_type": "code",
   "execution_count": 3,
   "metadata": {},
   "outputs": [
    {
     "name": "stdout",
     "output_type": "stream",
     "text": [
      "Categoria     Data   A   B\n",
      "0          2024-01  10  20\n",
      "1          2024-02  15  25\n"
     ]
    }
   ],
   "source": [
    "# Riorganizzare il DataFrame\n",
    "df_pivot = df.pivot(index='Data', columns='Categoria', values='Valore').reset_index()\n",
    "\n",
    "# Visualizzare il risultato\n",
    "print(df_pivot)"
   ]
  }
 ],
 "metadata": {
  "kernelspec": {
   "display_name": "Python 3",
   "language": "python",
   "name": "python3"
  },
  "language_info": {
   "codemirror_mode": {
    "name": "ipython",
    "version": 3
   },
   "file_extension": ".py",
   "mimetype": "text/x-python",
   "name": "python",
   "nbconvert_exporter": "python",
   "pygments_lexer": "ipython3",
   "version": "3.13.0"
  }
 },
 "nbformat": 4,
 "nbformat_minor": 2
}
