{
 "cells": [
  {
   "cell_type": "code",
   "execution_count": null,
   "metadata": {},
   "outputs": [],
   "source": [
    "import pandas as pd\n",
    "import numpy as np\n",
    "\n",
    "file_path = \"train (4).csv\"\n",
    "\n",
    "df = pd.read_csv(file_path)\n",
    "\n",
    "df\n"
   ]
  },
  {
   "cell_type": "code",
   "execution_count": null,
   "metadata": {},
   "outputs": [],
   "source": [
    "df.info() #informazioni sul dataset"
   ]
  },
  {
   "cell_type": "code",
   "execution_count": null,
   "metadata": {},
   "outputs": [],
   "source": [
    "df.head() #primi 5 valori"
   ]
  },
  {
   "cell_type": "code",
   "execution_count": null,
   "metadata": {},
   "outputs": [],
   "source": [
    "# Calcolare il numero di sopravvissuti per classe \n",
    "sopravvissuti_per_classe = df[df['Survived'] == 1].groupby('Pclass').size() \n",
    "# Visualizzare il risultato print(\"Numero di sopravvissuti per classe:\") print(sopravvissuti_per_classe)\n",
    "print(\"Numero di sopravvissuti per classe:\")\n",
    "sopravvissuti_per_classe"
   ]
  },
  {
   "cell_type": "code",
   "execution_count": null,
   "metadata": {},
   "outputs": [],
   "source": [
    "# Filtrare i sopravvissuti\n",
    "sopravvissuti = df[df['Survived'] == 1]\n",
    "\n",
    "# Calcolare la media dell'età dei sopravvissuti per ogni classe e sesso\n",
    "media_eta = sopravvissuti.groupby(['Pclass', 'Sex'])['Age'].mean().reset_index()\n",
    "\n",
    "# Visualizzare il risultato\n",
    "print(\"Media dell'età dei sopravvissuti per classe e sesso:\")\n",
    "print(media_eta)\n"
   ]
  },
  {
   "cell_type": "code",
   "execution_count": null,
   "metadata": {},
   "outputs": [],
   "source": [
    "# Calcolare la distribuzione dei passeggeri per sesso in ogni classe.\n",
    "distribuzione_sesso = df.groupby(['Pclass', 'Sex']).size().reset_index(name='Count')\n",
    "print(distribuzione_sesso)\n"
   ]
  },
  {
   "cell_type": "code",
   "execution_count": null,
   "metadata": {},
   "outputs": [],
   "source": [
    "# l'età media dei passeggeri per ogni porto di imbarco\n",
    "eta_media_porto = df.groupby('Embarked')['Age'].mean().reset_index()\n",
    "print(eta_media_porto)\n"
   ]
  },
  {
   "cell_type": "code",
   "execution_count": null,
   "metadata": {},
   "outputs": [],
   "source": [
    "# Sopravvivenza per Porto di Imbarco:\n",
    "sopravvivenza_porto = df.groupby('Embarked')['Survived'].mean().reset_index()\n",
    "print(sopravvivenza_porto)\n"
   ]
  },
  {
   "cell_type": "code",
   "execution_count": null,
   "metadata": {},
   "outputs": [],
   "source": [
    "# Relazione tra Età e Sopravvivenza\n",
    "relazione_eta_sopravvivenza = df.groupby('Age')['Survived'].mean().reset_index()\n",
    "print(relazione_eta_sopravvivenza)\n"
   ]
  },
  {
   "cell_type": "code",
   "execution_count": null,
   "metadata": {},
   "outputs": [],
   "source": [
    "# il numero di fratelli/coniugi a bordo per classe e sesso\n",
    "fratelli_coniugi = df.groupby(['Pclass', 'Sex'])['SibSp'].sum().reset_index()\n",
    "print(fratelli_coniugi)\n"
   ]
  },
  {
   "cell_type": "code",
   "execution_count": null,
   "metadata": {},
   "outputs": [],
   "source": [
    "# distribuzione delle cabine occupate dai passeggeri\n",
    "cabine_occupate = df['Cabin'].value_counts().reset_index(name='Count')\n",
    "print(cabine_occupate)\n"
   ]
  }
 ],
 "metadata": {
  "kernelspec": {
   "display_name": "Python 3",
   "language": "python",
   "name": "python3"
  },
  "language_info": {
   "codemirror_mode": {
    "name": "ipython",
    "version": 3
   },
   "file_extension": ".py",
   "mimetype": "text/x-python",
   "name": "python",
   "nbconvert_exporter": "python",
   "pygments_lexer": "ipython3",
   "version": "3.13.0"
  }
 },
 "nbformat": 4,
 "nbformat_minor": 2
}
