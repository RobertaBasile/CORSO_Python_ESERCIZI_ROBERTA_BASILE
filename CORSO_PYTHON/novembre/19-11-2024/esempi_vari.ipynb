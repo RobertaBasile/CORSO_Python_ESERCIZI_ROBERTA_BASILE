{
 "cells": [
  {
   "cell_type": "code",
   "execution_count": 2,
   "metadata": {},
   "outputs": [
    {
     "name": "stdout",
     "output_type": "stream",
     "text": [
      "   Regione Prodotto  Vendite\n",
      "0     Nord        A      100\n",
      "1      Sud        A      150\n",
      "2     Nord        B      200\n",
      "3      Est        B      250\n",
      "4    Ovest        A      300\n",
      "5      Sud        B      350\n",
      "6      Est        A      400\n",
      "7     Nord        B      180\n",
      "8    Ovest        B      260\n",
      "9      Sud        A      220\n",
      "10    Nord        A      130\n",
      "11     Est        B      310\n",
      "12     Sud        A      170\n"
     ]
    }
   ],
   "source": [
    "import pandas as pd\n",
    "data = {\n",
    "'Regione': [\n",
    "'Nord', 'Sud', 'Nord', 'Est', 'Ovest', 'Sud',\n",
    "'Est', 'Nord', 'Ovest', 'Sud', 'Nord', 'Est', 'Sud'\n",
    "],\n",
    "'Prodotto': [\n",
    "'A', 'A', 'B', 'B', 'A', 'B',\n",
    "'A', 'B', 'B', 'A', 'A', 'B', 'A'\n",
    "],\n",
    "'Vendite': [\n",
    "100, 150, 200, 250, 300, 350,\n",
    "400, 180, 260, 220, 130, 310, 170\n",
    "]\n",
    "}\n",
    "\n",
    "df = pd.DataFrame(data)\n",
    "print(df)"
   ]
  },
  {
   "cell_type": "code",
   "execution_count": 6,
   "metadata": {},
   "outputs": [
    {
     "name": "stdout",
     "output_type": "stream",
     "text": [
      "Prodotto    A    B\n",
      "Regione           \n",
      "Est       400  560\n",
      "Nord      230  380\n",
      "Ovest     300  260\n",
      "Sud       540  350\n"
     ]
    }
   ],
   "source": [
    "pivot_sum = df.pivot_table(values='Vendite', index='Regione', columns='Prodotto', aggfunc='sum', fill_value=0)\n",
    "print(pivot_sum)"
   ]
  },
  {
   "cell_type": "code",
   "execution_count": 7,
   "metadata": {},
   "outputs": [
    {
     "name": "stdout",
     "output_type": "stream",
     "text": [
      "          sum        mean       \n",
      "Prodotto    A    B      A      B\n",
      "Regione                         \n",
      "Est       400  560  400.0  280.0\n",
      "Nord      230  380  115.0  190.0\n",
      "Ovest     300  260  300.0  260.0\n",
      "Sud       540  350  180.0  350.0\n"
     ]
    }
   ],
   "source": [
    "pivot_multi = df.pivot_table(values='Vendite', index='Regione', columns='Prodotto', aggfunc=['sum', 'mean'], fill_value=0)\n",
    "print(pivot_multi)"
   ]
  },
  {
   "cell_type": "code",
   "execution_count": 8,
   "metadata": {},
   "outputs": [
    {
     "name": "stdout",
     "output_type": "stream",
     "text": [
      "Prodotto   A   B\n",
      "Regione         \n",
      "Est        0  60\n",
      "Nord      30  20\n",
      "Ovest      0   0\n",
      "Sud       70   0\n"
     ]
    }
   ],
   "source": [
    "def range_vendite(x):\n",
    "    return x.max() - x.min()\n",
    "\n",
    "pivot_custom = df.pivot_table(values='Vendite', index='Regione', columns='Prodotto', aggfunc=range_vendite, fill_value=0)\n",
    "print(pivot_custom)"
   ]
  }
 ],
 "metadata": {
  "kernelspec": {
   "display_name": "Python 3",
   "language": "python",
   "name": "python3"
  },
  "language_info": {
   "codemirror_mode": {
    "name": "ipython",
    "version": 3
   },
   "file_extension": ".py",
   "mimetype": "text/x-python",
   "name": "python",
   "nbconvert_exporter": "python",
   "pygments_lexer": "ipython3",
   "version": "3.13.0"
  }
 },
 "nbformat": 4,
 "nbformat_minor": 2
}
