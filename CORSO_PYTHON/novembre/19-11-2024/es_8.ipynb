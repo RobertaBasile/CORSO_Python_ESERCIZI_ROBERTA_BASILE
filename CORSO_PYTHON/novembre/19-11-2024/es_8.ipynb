{
 "cells": [
  {
   "cell_type": "markdown",
   "metadata": {},
   "source": [
    "# mostrare la media delle vendite di ogni combinazione di Regione e Prodotto. "
   ]
  },
  {
   "cell_type": "code",
   "execution_count": null,
   "metadata": {},
   "outputs": [],
   "source": [
    "# Creazione del DataFrame:\n",
    "\n",
    "# Crea un DataFrame df utilizzando i dati forniti.\n",
    "\n",
    "# Calcolo della Media delle Vendite:\n",
    "\n",
    "# Utilizza il metodo pivot_table di pandas per calcolare la media delle vendite \n",
    "# per ogni combinazione di Regione e Prodotto. Specifica values='Vendite' \n",
    "# per indicare la colonna dei valori, index='Regione' per impostare le regioni come indice, columns='Prodotto' \n",
    "# per trasformare i prodotti in colonne, e aggfunc='mean' per calcolare la media.\n",
    "\n",
    "# Riempimento dei Valori Mancanti:\n",
    "\n",
    "# Utilizza applymap per applicare una funzione a ogni elemento della tabella pivot. \n",
    "# La funzione lambda riempie i valori mancanti (NaN) con numeri casuali tra 100 e 500."
   ]
  },
  {
   "cell_type": "code",
   "execution_count": 5,
   "metadata": {},
   "outputs": [
    {
     "name": "stdout",
     "output_type": "stream",
     "text": [
      "DataFrame originale:\n",
      "  Regione Prodotto  Vendite\n",
      "0    Nord        A      100\n",
      "1     Sud        A      150\n",
      "2    Nord        B      200\n",
      "3     Est        B      250\n",
      "4   Ovest        A      300\n",
      "5     Sud        B      350\n",
      "6     Est        A      400\n",
      "7   Ovest        B      450\n"
     ]
    }
   ],
   "source": [
    "import pandas as pd\n",
    "import numpy as np\n",
    "\n",
    "# Dati forniti\n",
    "data = {\n",
    "    'Regione': ['Nord', 'Sud', 'Nord', 'Est', 'Ovest', 'Sud', 'Est', 'Ovest'],\n",
    "    'Prodotto': ['A', 'A', 'B', 'B', 'A', 'B', 'A', 'B'],\n",
    "    'Vendite': [100, 150, 200, 250, 300, 350, 400, 450]\n",
    "}\n",
    "\n",
    "df = pd.DataFrame(data)\n",
    "\n",
    "# Visualizzare il DataFrame originale\n",
    "print(\"DataFrame originale:\")\n",
    "print(df)\n"
   ]
  },
  {
   "cell_type": "code",
   "execution_count": 8,
   "metadata": {},
   "outputs": [
    {
     "name": "stdout",
     "output_type": "stream",
     "text": [
      "\n",
      "Tabella pivot con la media delle vendite:\n",
      "Prodotto      A      B\n",
      "Regione               \n",
      "Est       400.0  250.0\n",
      "Nord      100.0  200.0\n",
      "Ovest     300.0  450.0\n",
      "Sud       150.0  350.0\n"
     ]
    }
   ],
   "source": [
    "# Calcolare la media delle vendite per ogni combinazione di Regione e Prodotto\n",
    "pivot_table = df.pivot_table(values='Vendite', index='Regione', columns='Prodotto', aggfunc='mean')\n",
    "\n",
    "# Visualizzare la tabella pivot\n",
    "print(\"\\nTabella pivot con la media delle vendite:\")\n",
    "print(pivot_table)\n"
   ]
  },
  {
   "cell_type": "code",
   "execution_count": 9,
   "metadata": {},
   "outputs": [],
   "source": [
    "# # Riempire i valori mancanti con dati scelti casualmente\n",
    "# pivot_table = pivot_table.applymap(lambda x: x if not np.isnan(x) else np.random.randint(100, 500))\n",
    "\n",
    "# # Visualizzare la tabella pivot con i valori mancanti riempiti\n",
    "# print(\"\\nTabella pivot con i valori mancanti riempiti:\")\n",
    "# print(pivot_table)\n"
   ]
  },
  {
   "cell_type": "code",
   "execution_count": 10,
   "metadata": {},
   "outputs": [
    {
     "name": "stdout",
     "output_type": "stream",
     "text": [
      "\n",
      "Tabella pivot con i valori mancanti riempiti:\n",
      "Prodotto      A      B\n",
      "Regione               \n",
      "Est       400.0  250.0\n",
      "Nord      100.0  200.0\n",
      "Ovest     300.0  450.0\n",
      "Sud       150.0  350.0\n"
     ]
    }
   ],
   "source": [
    "# Riempire i valori mancanti con 0 \n",
    "pivot_table = pivot_table.fillna(0) \n",
    "# Visualizzare la tabella pivot con i valori mancanti riempiti \n",
    "print(\"\\nTabella pivot con i valori mancanti riempiti:\") \n",
    "print(pivot_table)"
   ]
  }
 ],
 "metadata": {
  "kernelspec": {
   "display_name": "Python 3",
   "language": "python",
   "name": "python3"
  },
  "language_info": {
   "codemirror_mode": {
    "name": "ipython",
    "version": 3
   },
   "file_extension": ".py",
   "mimetype": "text/x-python",
   "name": "python",
   "nbconvert_exporter": "python",
   "pygments_lexer": "ipython3",
   "version": "3.13.0"
  }
 },
 "nbformat": 4,
 "nbformat_minor": 2
}
