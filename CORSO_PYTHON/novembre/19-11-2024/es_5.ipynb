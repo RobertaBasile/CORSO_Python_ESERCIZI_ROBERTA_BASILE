{
 "cells": [
  {
   "cell_type": "code",
   "execution_count": 1,
   "metadata": {},
   "outputs": [
    {
     "name": "stdout",
     "output_type": "stream",
     "text": [
      "DataFrame df1:\n",
      "  chiave   A\n",
      "0     K0  A0\n",
      "1     K1  A1\n",
      "2     K2  A2\n",
      "3     K3  A3\n",
      "\n",
      "DataFrame df2:\n",
      "  chiave   B\n",
      "0     K0  B0\n",
      "1     K1  B1\n",
      "2     K2  B2\n",
      "\n",
      "DataFrame df3:\n",
      "  chiave   C\n",
      "0     K1  C1\n",
      "1     K2  C2\n",
      "2     K4  C4\n"
     ]
    }
   ],
   "source": [
    "import numpy as np\n",
    "import pandas as pd\n",
    "df1 = pd.DataFrame({\n",
    "'chiave': ['K0', 'K1', 'K2', 'K3'],\n",
    "'A': ['A0', 'A1', 'A2', 'A3']\n",
    "})\n",
    "\n",
    "df2 = pd.DataFrame({\n",
    "'chiave': ['K0', 'K1', 'K2'],\n",
    "'B': ['B0', 'B1', 'B2']\n",
    "})\n",
    "\n",
    "df3 = pd.DataFrame({\n",
    "'chiave': ['K1', 'K2', 'K4'],\n",
    "'C': ['C1', 'C2', 'C4']\n",
    "})\n",
    "\n",
    "# Visualizzare i DataFrame originali \n",
    "print(\"DataFrame df1:\") \n",
    "print(df1) \n",
    "print(\"\\nDataFrame df2:\") \n",
    "print(df2) \n",
    "print(\"\\nDataFrame df3:\") \n",
    "print(df3)\n",
    "# Unisci prima df1 e df2 includendo solo le chiavi comuni.\n",
    "# Poi, unisci il risultato con df3 includendo tutte le chiavi di df3."
   ]
  },
  {
   "cell_type": "code",
   "execution_count": 4,
   "metadata": {},
   "outputs": [
    {
     "name": "stdout",
     "output_type": "stream",
     "text": [
      "\n",
      "Unione di df1 e df2 (chiavi comuni):\n",
      "  chiave   A   B\n",
      "0     K0  A0  B0\n",
      "1     K1  A1  B1\n",
      "2     K2  A2  B2\n"
     ]
    }
   ],
   "source": [
    "# Unire df1 e df2 includendo solo le chiavi comuni\n",
    "df1_df2_unito = pd.merge(df1, df2, on='chiave', how='inner')\n",
    "print(\"\\nUnione di df1 e df2 (chiavi comuni):\")\n",
    "print(df1_df2_unito)"
   ]
  },
  {
   "cell_type": "code",
   "execution_count": 6,
   "metadata": {},
   "outputs": [
    {
     "name": "stdout",
     "output_type": "stream",
     "text": [
      "\n",
      "Unione del risultato con df3 (tutte le chiavi di df3):\n",
      "  chiave    A    B   C\n",
      "0     K1   A1   B1  C1\n",
      "1     K2   A2   B2  C2\n",
      "2     K4  NaN  NaN  C4\n"
     ]
    }
   ],
   "source": [
    "# Unire il risultato con df3 includendo tutte le chiavi di df3\n",
    "df_finale = pd.merge(df1_df2_unito, df3, on='chiave', how='right')\n",
    "print(\"\\nUnione del risultato con df3 (tutte le chiavi di df3):\")\n",
    "print(df_finale)\n"
   ]
  }
 ],
 "metadata": {
  "kernelspec": {
   "display_name": "Python 3",
   "language": "python",
   "name": "python3"
  },
  "language_info": {
   "codemirror_mode": {
    "name": "ipython",
    "version": 3
   },
   "file_extension": ".py",
   "mimetype": "text/x-python",
   "name": "python",
   "nbconvert_exporter": "python",
   "pygments_lexer": "ipython3",
   "version": "3.13.0"
  }
 },
 "nbformat": 4,
 "nbformat_minor": 2
}
