{
 "cells": [
  {
   "cell_type": "markdown",
   "metadata": {},
   "source": [
    "Crea una tabella pivot che mostri la somma delle vendite per ogni venditore e mese."
   ]
  },
  {
   "cell_type": "code",
   "execution_count": null,
   "metadata": {},
   "outputs": [],
   "source": [
    "import pandas as pd\n",
    "\n",
    "# Dati forniti\n",
    "data = {\n",
    "    'Venditore': ['Alice', 'Bob', 'Alice', 'Bob', 'Charlie'],\n",
    "    'Mese': ['Gennaio', 'Gennaio', 'Febbraio', 'Febbraio', 'Gennaio'],\n",
    "    'Vendite': [200, 150, 300, 250, 100]\n",
    "}\n",
    "\n",
    "df = pd.DataFrame(data)\n"
   ]
  },
  {
   "cell_type": "code",
   "execution_count": null,
   "metadata": {},
   "outputs": [
    {
     "name": "stdout",
     "output_type": "stream",
     "text": [
      "Mese       Febbraio  Gennaio\n",
      "Venditore                   \n",
      "Alice         300.0    200.0\n",
      "Bob           250.0    150.0\n",
      "Charlie         NaN    100.0\n"
     ]
    }
   ],
   "source": [
    "\n",
    "# Creare una tabella pivot\n",
    "pivot_table = df.pivot_table(values='Vendite', index='Venditore', columns='Mese', aggfunc='sum', fill_value=0)\n",
    "\n",
    "# Visualizzare il risultato\n",
    "print(pivot_table)"
   ]
  }
 ],
 "metadata": {
  "kernelspec": {
   "display_name": "Python 3",
   "language": "python",
   "name": "python3"
  },
  "language_info": {
   "codemirror_mode": {
    "name": "ipython",
    "version": 3
   },
   "file_extension": ".py",
   "mimetype": "text/x-python",
   "name": "python",
   "nbconvert_exporter": "python",
   "pygments_lexer": "ipython3",
   "version": "3.13.0"
  }
 },
 "nbformat": 4,
 "nbformat_minor": 2
}
