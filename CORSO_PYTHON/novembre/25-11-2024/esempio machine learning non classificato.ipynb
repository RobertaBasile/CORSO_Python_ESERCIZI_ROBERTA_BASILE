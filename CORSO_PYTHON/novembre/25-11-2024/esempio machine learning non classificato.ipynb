{
 "cells": [
  {
   "cell_type": "code",
   "execution_count": null,
   "metadata": {},
   "outputs": [
    {
     "name": "stdout",
     "output_type": "stream",
     "text": [
      "Accuratezza del modello: 1.00\n"
     ]
    }
   ],
   "source": [
    "# Esempio di Codice: Classificazione con il Dataset Iris\n",
    "\n",
    "#Esercizio Base \n",
    "# Carica il dataset Iris. \n",
    "# Suddividi i dati in training e test. \n",
    "# # Applica l'algoritmo K-Nearest Neighbors \n",
    "# con n_neighbors=5. \n",
    "# Valuta la performance del modello # usando l'accuratezza.\n",
    "\n",
    "\n",
    "\n",
    "# Importare le librerie necessarie\n",
    "from sklearn.datasets import load_iris\n",
    "from sklearn.model_selection import train_test_split\n",
    "from sklearn.neighbors import KNeighborsClassifier\n",
    "from sklearn.metrics import accuracy_score\n",
    "\n",
    "# Caricare il dataset Iris\n",
    "iris = load_iris()\n",
    "X = iris.data  # Caratteristiche (lunghezza e larghezza di sepali e petali)\n",
    "y = iris.target  # Etichette (specie di Iris)\n",
    "\n",
    "# Suddividere il dataset in set di training e test\n",
    "X_train, X_test, y_train, y_test = train_test_split(X, y, test_size=0.2, random_state=42)\n",
    "\n",
    "# Definire il modello: K-Nearest Neighbors Classifier\n",
    "model = KNeighborsClassifier(n_neighbors=3)\n",
    "\n",
    "# Addestrare il modello sui dati di training\n",
    "model.fit(X_train, y_train)\n",
    "\n",
    "# Fare predizioni sui dati di test\n",
    "y_pred = model.predict(X_test)\n",
    "\n",
    "# Valutare le prestazioni del modello\n",
    "accuracy = accuracy_score(y_test, y_pred)\n",
    "print(f\"Accuratezza del modello: {accuracy:.2f}\")\n",
    "\n",
    "\n",
    "\n"
   ]
  }
 ],
 "metadata": {
  "kernelspec": {
   "display_name": "Python 3",
   "language": "python",
   "name": "python3"
  },
  "language_info": {
   "codemirror_mode": {
    "name": "ipython",
    "version": 3
   },
   "file_extension": ".py",
   "mimetype": "text/x-python",
   "name": "python",
   "nbconvert_exporter": "python",
   "pygments_lexer": "ipython3",
   "version": "3.13.0"
  }
 },
 "nbformat": 4,
 "nbformat_minor": 2
}
