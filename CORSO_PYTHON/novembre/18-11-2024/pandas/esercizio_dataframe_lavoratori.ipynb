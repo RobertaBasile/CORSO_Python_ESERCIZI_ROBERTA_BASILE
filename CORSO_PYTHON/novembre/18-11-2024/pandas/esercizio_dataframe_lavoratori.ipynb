{
 "cells": [
  {
   "cell_type": "markdown",
   "metadata": {},
   "source": [
    "# ESERCIZIO DATAFRAME LAVORATORI\n",
    "- la media dello stipendio e dell'esperienza per ogni dipartimento\n",
    "- trovare i dipendenti con uno stipendio sopra la media all'interno del loro dipartimento\n",
    "- aggiungere una nuova colonna che rappresenta il rank (consiglio cercate la funzione rank di pandas) di ogni dipendente all'interno del suo dipartimento\n",
    "- Mostrare il fataframe raggruppato per dipartimento e ogni dipendente in ordine dal rank più alto al più basso\n",
    "- rank in base allo stipendio"
   ]
  },
  {
   "cell_type": "code",
   "execution_count": 7,
   "metadata": {},
   "outputs": [],
   "source": [
    "# la media dello stipendio e dell'esperienza per ogni dipartimento\n",
    "\n",
    "# trovare i dipendenti con uno stipendio sopra la media all'interno del loro dipartimento\n",
    "\n",
    "# aggiungere una nuova colonna che rappresenta il rank (consiglio cercate la funzione rank di pandas) di ogni dipendente all'interno del suo dipartimento\n",
    "\n",
    "# Mostrare il fataframe raggruppato per dipartimento e ogni dipendente in ordine dal rank più alto al più basso\n",
    "\n",
    "# rank in base allo stipendio"
   ]
  },
  {
   "cell_type": "code",
   "execution_count": 8,
   "metadata": {},
   "outputs": [],
   "source": [
    "import pandas as pd\n",
    "import numpy as np\n",
    "\n",
    "# Larger employee dataset\n",
    "data = {\n",
    "'Name': ['Alice', 'Bob', 'Charlie', 'David', 'Eva', 'Frank', 'Grace', 'Hannah', 'Ian', 'Jack', 'Kara', 'Liam'],\n",
    "'Department': ['HR', 'Finance', 'IT', 'HR', 'Finance', 'IT', 'HR', 'Finance', 'IT', 'HR', 'Finance', 'IT'],\n",
    "'Salary': [50000, 60000, 70000, 52000, 58000, 72000, 55000, 62000, 75000, 51000, 63000, 76000],\n",
    "'Experience': [2, 5, 8, 3, 4, 10, 4, 6, 12, 1, 7, 15]\n",
    "}\n",
    "df = pd.DataFrame(data)"
   ]
  },
  {
   "cell_type": "code",
   "execution_count": 9,
   "metadata": {},
   "outputs": [
    {
     "name": "stdout",
     "output_type": "stream",
     "text": [
      "\n",
      "Media dello stipendio e dell'esperienza per ogni dipartimento:\n",
      "  Department   Salary  Experience\n",
      "0    Finance  60750.0        5.50\n",
      "1         HR  52000.0        2.50\n",
      "2         IT  73250.0       11.25\n"
     ]
    }
   ],
   "source": [
    "# Calcolare la media dello stipendio e dell'esperienza per ogni dipartimento\n",
    "media_stipendio_esperienza = df.groupby('Department')[['Salary', 'Experience']].mean().reset_index()\n",
    "print(\"\\nMedia dello stipendio e dell'esperienza per ogni dipartimento:\")\n",
    "print(media_stipendio_esperienza)\n"
   ]
  },
  {
   "cell_type": "code",
   "execution_count": 10,
   "metadata": {},
   "outputs": [
    {
     "name": "stdout",
     "output_type": "stream",
     "text": [
      "\n",
      "Dipendenti con uno stipendio sopra la media all'interno del loro dipartimento:\n",
      "      Name Department  Salary  Experience\n",
      "6    Grace         HR   55000           4\n",
      "7   Hannah    Finance   62000           6\n",
      "8      Ian         IT   75000          12\n",
      "10    Kara    Finance   63000           7\n",
      "11    Liam         IT   76000          15\n"
     ]
    }
   ],
   "source": [
    "# Trovare i dipendenti con uno stipendio sopra la media all'interno del loro dipartimento\n",
    "media_stipendio_dipartimento = df.groupby('Department')['Salary'].transform('mean')\n",
    "dipendenti_sopra_media_dipartimento = df[df['Salary'] > media_stipendio_dipartimento]\n",
    "print(\"\\nDipendenti con uno stipendio sopra la media all'interno del loro dipartimento:\")\n",
    "print(dipendenti_sopra_media_dipartimento)\n",
    "\n"
   ]
  },
  {
   "cell_type": "code",
   "execution_count": 11,
   "metadata": {},
   "outputs": [
    {
     "name": "stdout",
     "output_type": "stream",
     "text": [
      "\n",
      "DataFrame con la colonna 'Rank':\n",
      "       Name Department  Salary  Experience  Rank\n",
      "0     Alice         HR   50000           2   4.0\n",
      "1       Bob    Finance   60000           5   3.0\n",
      "2   Charlie         IT   70000           8   4.0\n",
      "3     David         HR   52000           3   2.0\n",
      "4       Eva    Finance   58000           4   4.0\n",
      "5     Frank         IT   72000          10   3.0\n",
      "6     Grace         HR   55000           4   1.0\n",
      "7    Hannah    Finance   62000           6   2.0\n",
      "8       Ian         IT   75000          12   2.0\n",
      "9      Jack         HR   51000           1   3.0\n",
      "10     Kara    Finance   63000           7   1.0\n",
      "11     Liam         IT   76000          15   1.0\n"
     ]
    }
   ],
   "source": [
    "# Aggiungere una nuova colonna che rappresenta il rank di ogni dipendente all'interno del suo dipartimento\n",
    "df['Rank'] = df.groupby('Department')['Salary'].rank(ascending=False)\n",
    "print(\"\\nDataFrame con la colonna 'Rank':\")\n",
    "print(df)\n"
   ]
  },
  {
   "cell_type": "code",
   "execution_count": 12,
   "metadata": {},
   "outputs": [
    {
     "name": "stdout",
     "output_type": "stream",
     "text": [
      "\n",
      "DataFrame raggruppato per dipartimento e ordinato per rank:\n",
      "       Name Department  Salary  Experience  Rank\n",
      "10     Kara    Finance   63000           7   1.0\n",
      "7    Hannah    Finance   62000           6   2.0\n",
      "1       Bob    Finance   60000           5   3.0\n",
      "4       Eva    Finance   58000           4   4.0\n",
      "6     Grace         HR   55000           4   1.0\n",
      "3     David         HR   52000           3   2.0\n",
      "9      Jack         HR   51000           1   3.0\n",
      "0     Alice         HR   50000           2   4.0\n",
      "11     Liam         IT   76000          15   1.0\n",
      "8       Ian         IT   75000          12   2.0\n",
      "5     Frank         IT   72000          10   3.0\n",
      "2   Charlie         IT   70000           8   4.0\n"
     ]
    }
   ],
   "source": [
    "# Mostrare il DataFrame raggruppato per dipartimento e ogni dipendente in ordine dal rank più alto al più basso\n",
    "df_ordinato = df.sort_values(by=['Department', 'Rank'])\n",
    "print(\"\\nDataFrame raggruppato per dipartimento e ordinato per rank:\")\n",
    "print(df_ordinato)\n"
   ]
  }
 ],
 "metadata": {
  "kernelspec": {
   "display_name": "Python 3",
   "language": "python",
   "name": "python3"
  },
  "language_info": {
   "codemirror_mode": {
    "name": "ipython",
    "version": 3
   },
   "file_extension": ".py",
   "mimetype": "text/x-python",
   "name": "python",
   "nbconvert_exporter": "python",
   "pygments_lexer": "ipython3",
   "version": "3.13.0"
  }
 },
 "nbformat": 4,
 "nbformat_minor": 2
}
