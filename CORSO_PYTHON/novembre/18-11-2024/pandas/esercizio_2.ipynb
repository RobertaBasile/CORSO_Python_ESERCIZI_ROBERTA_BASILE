{
 "cells": [
  {
   "cell_type": "code",
   "execution_count": 4,
   "metadata": {},
   "outputs": [],
   "source": [
    "# creare una serie di 15 numeri random, inserire un \n",
    "# valore nullo a 3 indici generati randomicamente, riempirli poi con ffill\n",
    "# creare una serie di 15 numeri random, \n",
    "# inserire un valore nullo a 3 indici generati randomicamente, \n",
    "# riempirli poi con ffill\n",
    "import numpy as np\n",
    "import pandas as pd\n",
    "\n",
    "# Creazione di una serie di 15 numeri casuali\n",
    "s1 = pd.Series(np.random.randint(1, 100, size=15))\n",
    "indici0 = np.random.choice(range(15), 3, replace=False)\n",
    "s1[indici0] = np.nan\n",
    "s2=s1.ffill()\n",
    "\n"
   ]
  }
 ],
 "metadata": {
  "kernelspec": {
   "display_name": "Python 3",
   "language": "python",
   "name": "python3"
  },
  "language_info": {
   "codemirror_mode": {
    "name": "ipython",
    "version": 3
   },
   "file_extension": ".py",
   "mimetype": "text/x-python",
   "name": "python",
   "nbconvert_exporter": "python",
   "pygments_lexer": "ipython3",
   "version": "3.13.0"
  }
 },
 "nbformat": 4,
 "nbformat_minor": 2
}
